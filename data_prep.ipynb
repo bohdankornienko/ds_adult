{
 "cells": [
  {
   "cell_type": "code",
   "execution_count": 1,
   "metadata": {
    "collapsed": true
   },
   "outputs": [],
   "source": [
    "import pandas as pd\n",
    "import os\n",
    "import json\n",
    "\n",
    "from pprint import pprint"
   ]
  },
  {
   "cell_type": "code",
   "execution_count": 8,
   "metadata": {
    "collapsed": true
   },
   "outputs": [],
   "source": [
    "col_names = ['age', 'workclass', 'fnlwgt', 'education', 'education-num', 'marital_status',\n",
    "             'occupation', 'relationship', 'race', 'sex', 'capital_gain',\n",
    "             'capital_loss', 'hours_per_week', 'native_country', 'income']\n",
    "\n",
    "with open(os.path.join('data', 'col_names.txt'), 'w') as fp:\n",
    "    fp.write(','.join(col_names))"
   ]
  },
  {
   "cell_type": "code",
   "execution_count": 9,
   "metadata": {
    "collapsed": true
   },
   "outputs": [],
   "source": [
    "categorical_columns = [\n",
    "     'workclass', 'education', 'marital_status',\n",
    "     'occupation', 'relationship', 'race', 'sex',\n",
    "     'native_country', 'income'\n",
    "]"
   ]
  },
  {
   "cell_type": "code",
   "execution_count": 10,
   "metadata": {
    "collapsed": true
   },
   "outputs": [],
   "source": [
    "data = pd.read_csv('data/adult.data', header=None)\n",
    "test = pd.read_csv('data/adult.test', header=None, skiprows=1)\n",
    "data.columns = col_names\n",
    "test.columns = col_names"
   ]
  },
  {
   "cell_type": "code",
   "execution_count": 11,
   "metadata": {
    "collapsed": true
   },
   "outputs": [],
   "source": [
    "for col in categorical_columns:\n",
    "    data[col] = data[col].str.strip()\n",
    "    test[col] = test[col].str.strip()"
   ]
  },
  {
   "cell_type": "code",
   "execution_count": 16,
   "metadata": {},
   "outputs": [],
   "source": [
    "mappings = {}\n",
    "\n",
    "for col in categorical_columns:\n",
    "    cv = sorted(data[col].unique())\n",
    "    ids = list(range(len(cv)))\n",
    "    \n",
    "    mappings[col + '_ns'] = dict(zip(ids, cv))\n",
    "    mappings[col + '_sn'] = dict(zip(cv, ids))"
   ]
  },
  {
   "cell_type": "code",
   "execution_count": 18,
   "metadata": {},
   "outputs": [],
   "source": [
    "with open(os.path.join('data', 'mappings.json'), 'w') as fp:\n",
    "    json.dump(mappings, fp)"
   ]
  },
  {
   "cell_type": "code",
   "execution_count": 19,
   "metadata": {
    "collapsed": true
   },
   "outputs": [],
   "source": [
    "test['income'] = test['income'].str.replace('.', '')"
   ]
  },
  {
   "cell_type": "code",
   "execution_count": 20,
   "metadata": {
    "collapsed": true
   },
   "outputs": [],
   "source": [
    "for col in categorical_columns:\n",
    "    data[col] = data[col].apply(lambda x: mappings[col + '_sn'][x])\n",
    "    test[col] = test[col].apply(lambda x: mappings[col + '_sn'][x])"
   ]
  },
  {
   "cell_type": "code",
   "execution_count": 21,
   "metadata": {
    "collapsed": true
   },
   "outputs": [],
   "source": [
    "data.to_csv('data/adult.data.clean', index=False, header=False)\n",
    "test.to_csv('data/adult.test.clean', index=False, header=False)"
   ]
  }
 ],
 "metadata": {
  "kernelspec": {
   "display_name": "Python 3",
   "language": "python",
   "name": "python3"
  },
  "language_info": {
   "codemirror_mode": {
    "name": "ipython",
    "version": 3
   },
   "file_extension": ".py",
   "mimetype": "text/x-python",
   "name": "python",
   "nbconvert_exporter": "python",
   "pygments_lexer": "ipython3",
   "version": "3.6.4"
  }
 },
 "nbformat": 4,
 "nbformat_minor": 2
}
