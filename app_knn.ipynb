{
 "cells": [
  {
   "cell_type": "code",
   "execution_count": 1,
   "metadata": {
    "collapsed": true
   },
   "outputs": [],
   "source": [
    "import os\n",
    "import time\n",
    "import pickle\n",
    "import itertools\n",
    "\n",
    "import pandas as pd\n",
    "import numpy as np\n",
    "\n",
    "from sklearn.metrics import confusion_matrix\n",
    "from sklearn.model_selection import train_test_split\n",
    "from sklearn.neighbors import KNeighborsClassifier"
   ]
  },
  {
   "cell_type": "code",
   "execution_count": 2,
   "metadata": {},
   "outputs": [],
   "source": [
    "experiments_dir = 'experiments'\n",
    "\n",
    "if not os.path.exists(experiments_dir):\n",
    "    os.mkdir(experiments_dir)\n",
    "    \n",
    "app_knn_dir = os.path.join(experiments_dir, 'app_knn')\n",
    "if not os.path.exists(app_knn_dir):\n",
    "    os.mkdir(app_knn_dir)\n",
    "    \n",
    "msg = \\\n",
    "    'WARNING this file is generated automatically. Do not edit it.\\n\\n' \\\n",
    "    'This directory contains experiment with scikin-learn KNeighborsClassifier'\\\n",
    "    '\\n'\n",
    "\n",
    "with open(os.path.join(app_knn_dir, 'note.txt'), 'w') as fp:\n",
    "    fp.write(msg)"
   ]
  },
  {
   "cell_type": "code",
   "execution_count": 3,
   "metadata": {},
   "outputs": [],
   "source": [
    "train_file = 'data/adult.data.clean'\n",
    "df = pd.read_csv(train_file, header=None)"
   ]
  },
  {
   "cell_type": "code",
   "execution_count": 4,
   "metadata": {},
   "outputs": [
    {
     "data": {
      "text/html": [
       "<div>\n",
       "<style scoped>\n",
       "    .dataframe tbody tr th:only-of-type {\n",
       "        vertical-align: middle;\n",
       "    }\n",
       "\n",
       "    .dataframe tbody tr th {\n",
       "        vertical-align: top;\n",
       "    }\n",
       "\n",
       "    .dataframe thead th {\n",
       "        text-align: right;\n",
       "    }\n",
       "</style>\n",
       "<table border=\"1\" class=\"dataframe\">\n",
       "  <thead>\n",
       "    <tr style=\"text-align: right;\">\n",
       "      <th></th>\n",
       "      <th>0</th>\n",
       "      <th>1</th>\n",
       "      <th>2</th>\n",
       "      <th>3</th>\n",
       "      <th>4</th>\n",
       "      <th>5</th>\n",
       "      <th>6</th>\n",
       "      <th>7</th>\n",
       "      <th>8</th>\n",
       "      <th>9</th>\n",
       "      <th>10</th>\n",
       "      <th>11</th>\n",
       "      <th>12</th>\n",
       "      <th>13</th>\n",
       "      <th>14</th>\n",
       "    </tr>\n",
       "  </thead>\n",
       "  <tbody>\n",
       "    <tr>\n",
       "      <th>0</th>\n",
       "      <td>39</td>\n",
       "      <td>7</td>\n",
       "      <td>77516</td>\n",
       "      <td>9</td>\n",
       "      <td>13</td>\n",
       "      <td>4</td>\n",
       "      <td>1</td>\n",
       "      <td>1</td>\n",
       "      <td>4</td>\n",
       "      <td>1</td>\n",
       "      <td>2174</td>\n",
       "      <td>0</td>\n",
       "      <td>40</td>\n",
       "      <td>39</td>\n",
       "      <td>0</td>\n",
       "    </tr>\n",
       "    <tr>\n",
       "      <th>1</th>\n",
       "      <td>50</td>\n",
       "      <td>6</td>\n",
       "      <td>83311</td>\n",
       "      <td>9</td>\n",
       "      <td>13</td>\n",
       "      <td>2</td>\n",
       "      <td>4</td>\n",
       "      <td>0</td>\n",
       "      <td>4</td>\n",
       "      <td>1</td>\n",
       "      <td>0</td>\n",
       "      <td>0</td>\n",
       "      <td>13</td>\n",
       "      <td>39</td>\n",
       "      <td>0</td>\n",
       "    </tr>\n",
       "    <tr>\n",
       "      <th>2</th>\n",
       "      <td>38</td>\n",
       "      <td>4</td>\n",
       "      <td>215646</td>\n",
       "      <td>11</td>\n",
       "      <td>9</td>\n",
       "      <td>0</td>\n",
       "      <td>6</td>\n",
       "      <td>1</td>\n",
       "      <td>4</td>\n",
       "      <td>1</td>\n",
       "      <td>0</td>\n",
       "      <td>0</td>\n",
       "      <td>40</td>\n",
       "      <td>39</td>\n",
       "      <td>0</td>\n",
       "    </tr>\n",
       "    <tr>\n",
       "      <th>3</th>\n",
       "      <td>53</td>\n",
       "      <td>4</td>\n",
       "      <td>234721</td>\n",
       "      <td>1</td>\n",
       "      <td>7</td>\n",
       "      <td>2</td>\n",
       "      <td>6</td>\n",
       "      <td>0</td>\n",
       "      <td>2</td>\n",
       "      <td>1</td>\n",
       "      <td>0</td>\n",
       "      <td>0</td>\n",
       "      <td>40</td>\n",
       "      <td>39</td>\n",
       "      <td>0</td>\n",
       "    </tr>\n",
       "    <tr>\n",
       "      <th>4</th>\n",
       "      <td>28</td>\n",
       "      <td>4</td>\n",
       "      <td>338409</td>\n",
       "      <td>9</td>\n",
       "      <td>13</td>\n",
       "      <td>2</td>\n",
       "      <td>10</td>\n",
       "      <td>5</td>\n",
       "      <td>2</td>\n",
       "      <td>0</td>\n",
       "      <td>0</td>\n",
       "      <td>0</td>\n",
       "      <td>40</td>\n",
       "      <td>5</td>\n",
       "      <td>0</td>\n",
       "    </tr>\n",
       "  </tbody>\n",
       "</table>\n",
       "</div>"
      ],
      "text/plain": [
       "   0   1       2   3   4   5   6   7   8   9     10  11  12  13  14\n",
       "0  39   7   77516   9  13   4   1   1   4   1  2174   0  40  39   0\n",
       "1  50   6   83311   9  13   2   4   0   4   1     0   0  13  39   0\n",
       "2  38   4  215646  11   9   0   6   1   4   1     0   0  40  39   0\n",
       "3  53   4  234721   1   7   2   6   0   2   1     0   0  40  39   0\n",
       "4  28   4  338409   9  13   2  10   5   2   0     0   0  40   5   0"
      ]
     },
     "execution_count": 4,
     "metadata": {},
     "output_type": "execute_result"
    }
   ],
   "source": [
    "df.head()"
   ]
  },
  {
   "cell_type": "code",
   "execution_count": 5,
   "metadata": {
    "collapsed": true
   },
   "outputs": [],
   "source": [
    "X = df.values[:, 0:14]\n",
    "Y = df.values[:, 14]\n",
    "seed = 7"
   ]
  },
  {
   "cell_type": "code",
   "execution_count": 6,
   "metadata": {},
   "outputs": [],
   "source": [
    "test_size = 0.33\n",
    "X_train, X_test, y_train, y_test = train_test_split(X, Y, test_size=test_size, random_state=seed)"
   ]
  },
  {
   "cell_type": "code",
   "execution_count": 7,
   "metadata": {
    "collapsed": true
   },
   "outputs": [],
   "source": [
    "def cm_score(cm):\n",
    "    return np.mean(np.diag(cm) / np.sum(cm, axis=1))"
   ]
  },
  {
   "cell_type": "code",
   "execution_count": 8,
   "metadata": {
    "collapsed": true
   },
   "outputs": [],
   "source": [
    "class GridSearcher:\n",
    "    def __init__(self, estimator, data):\n",
    "        \"\"\"\n",
    "        @param data: dict with following fields: X_train, y_train, X_test, y_test\n",
    "        \"\"\"\n",
    "        self._estimator = estimator\n",
    "        self._data = data\n",
    "        self._best_score = 0\n",
    "        self._best_params = {}\n",
    "        \n",
    "    def search(self, opts):\n",
    "        keys, values = zip(*opts.items())\n",
    "        for v in itertools.product(*values):\n",
    "            experiment = dict(zip(keys, v))\n",
    "            \n",
    "            self._estimator.set_params(**experiment)\n",
    "            self._estimator.fit(self._data['X_train'], self._data['y_train'])\n",
    "            \n",
    "            y_pred = self._estimator.predict(self._data['X_test'])\n",
    "            cm = confusion_matrix(self._data['y_test'], y_pred)\n",
    "            \n",
    "            score_cm = cm_score(cm)\n",
    "            \n",
    "            if score_cm > self._best_score:\n",
    "                self._best_score = score_cm\n",
    "                self._best_params = experiment\n",
    "        \n",
    "        return self._best_params, self._best_score"
   ]
  },
  {
   "cell_type": "code",
   "execution_count": 9,
   "metadata": {},
   "outputs": [
    {
     "name": "stdout",
     "output_type": "stream",
     "text": [
      "best score 0.6300942359819933\n",
      "best params {'n_neighbors': 1, 'algorithm': 'brute'}\n"
     ]
    }
   ],
   "source": [
    "opts = {\n",
    "    'n_neighbors': list(range(1, 10)),\n",
    "    'algorithm': ['ball_tree', 'kd_tree', 'brute']\n",
    "}\n",
    "\n",
    "data = {\n",
    "    'X_train': X_train,\n",
    "    'y_train': y_train,\n",
    "    'X_test': X_test,\n",
    "    'y_test': y_test\n",
    "}\n",
    "\n",
    "knn = KNeighborsClassifier()\n",
    "\n",
    "gs = GridSearcher(knn, data)\n",
    "opts, score = gs.search(opts)\n",
    "\n",
    "print('best score', score)\n",
    "print('best params', opts)"
   ]
  },
  {
   "cell_type": "code",
   "execution_count": 10,
   "metadata": {},
   "outputs": [],
   "source": [
    "def run_experiment(opts, data):\n",
    "    experiment_start = time.strftime(\"%Y-%m-%d-%H-%M-%S\", time.gmtime())\n",
    "    \n",
    "    knn = KNeighborsClassifier()\n",
    "    knn.set_params(**opts)\n",
    "    knn.fit(data['X_train'], data['y_train'])\n",
    "    \n",
    "    \n",
    "    opts['accuracy'] = knn.score(data['X_test'], data['y_test'])\n",
    "    \n",
    "    y_pred = knn.predict(data['X_test'])\n",
    "    cm = confusion_matrix(data['y_test'], y_pred)\n",
    "    opts['cm_accuracy'] = cm_score(cm)\n",
    "    \n",
    "    experiment_end = time.strftime(\"%Y-%m-%d-%H-%M-%S\", time.gmtime())\n",
    "    opts['time_start'] = experiment_start\n",
    "    opts['time_end'] = experiment_end\n",
    "    \n",
    "    df = pd.DataFrame(opts, index=[0])\n",
    "    experiment_dir = os.path.join(app_knn_dir, experiment_end)\n",
    "    os.mkdir(experiment_dir)\n",
    "    \n",
    "    with open(os.path.join(experiment_dir, 'model.knn'),'wb') as fp:\n",
    "        pickle.dump(knn, fp)\n",
    "    \n",
    "    df.to_csv(os.path.join(experiment_dir, 'results.cvs'), index=None)\n",
    "    \n",
    "    return df"
   ]
  },
  {
   "cell_type": "code",
   "execution_count": 11,
   "metadata": {},
   "outputs": [
    {
     "data": {
      "text/html": [
       "<div>\n",
       "<style scoped>\n",
       "    .dataframe tbody tr th:only-of-type {\n",
       "        vertical-align: middle;\n",
       "    }\n",
       "\n",
       "    .dataframe tbody tr th {\n",
       "        vertical-align: top;\n",
       "    }\n",
       "\n",
       "    .dataframe thead th {\n",
       "        text-align: right;\n",
       "    }\n",
       "</style>\n",
       "<table border=\"1\" class=\"dataframe\">\n",
       "  <thead>\n",
       "    <tr style=\"text-align: right;\">\n",
       "      <th></th>\n",
       "      <th>accuracy</th>\n",
       "      <th>algorithm</th>\n",
       "      <th>cm_accuracy</th>\n",
       "      <th>n_neighbors</th>\n",
       "      <th>time_end</th>\n",
       "      <th>time_start</th>\n",
       "    </tr>\n",
       "  </thead>\n",
       "  <tbody>\n",
       "    <tr>\n",
       "      <th>0</th>\n",
       "      <td>0.724549</td>\n",
       "      <td>brute</td>\n",
       "      <td>0.630094</td>\n",
       "      <td>1</td>\n",
       "      <td>2018-03-02-20-47-05</td>\n",
       "      <td>2018-03-02-20-46-56</td>\n",
       "    </tr>\n",
       "  </tbody>\n",
       "</table>\n",
       "</div>"
      ],
      "text/plain": [
       "   accuracy algorithm  cm_accuracy  n_neighbors             time_end  \\\n",
       "0  0.724549     brute     0.630094            1  2018-03-02-20-47-05   \n",
       "\n",
       "            time_start  \n",
       "0  2018-03-02-20-46-56  "
      ]
     },
     "execution_count": 11,
     "metadata": {},
     "output_type": "execute_result"
    }
   ],
   "source": [
    "import copy\n",
    "\n",
    "df = run_experiment(copy.copy(opts), data)\n",
    "df"
   ]
  },
  {
   "cell_type": "code",
   "execution_count": 12,
   "metadata": {},
   "outputs": [
    {
     "data": {
      "text/plain": [
       "0.7245486692722873"
      ]
     },
     "execution_count": 12,
     "metadata": {},
     "output_type": "execute_result"
    }
   ],
   "source": [
    "# just check if model is fine\n",
    "\n",
    "with open(os.path.join(app_knn_dir, df.loc[0, 'time_end'], 'model.knn') ,'rb') as fp:\n",
    "    knn2 = pickle.loads(fp.read())\n",
    "\n",
    "knn2.score(X_test, y_test)"
   ]
  }
 ],
 "metadata": {
  "kernelspec": {
   "display_name": "Python 3",
   "language": "python",
   "name": "python3"
  },
  "language_info": {
   "codemirror_mode": {
    "name": "ipython",
    "version": 3
   },
   "file_extension": ".py",
   "mimetype": "text/x-python",
   "name": "python",
   "nbconvert_exporter": "python",
   "pygments_lexer": "ipython3",
   "version": "3.6.4"
  }
 },
 "nbformat": 4,
 "nbformat_minor": 2
}
